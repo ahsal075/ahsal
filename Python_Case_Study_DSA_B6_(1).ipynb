{
  "nbformat": 4,
  "nbformat_minor": 0,
  "metadata": {
    "colab": {
      "provenance": [],
      "include_colab_link": true
    },
    "kernelspec": {
      "name": "python3",
      "display_name": "Python 3"
    },
    "language_info": {
      "name": "python"
    }
  },
  "cells": [
    {
      "cell_type": "markdown",
      "metadata": {
        "id": "view-in-github",
        "colab_type": "text"
      },
      "source": [
        "<a href=\"https://colab.research.google.com/github/ahsal075/ahsal/blob/main/Python_Case_Study_DSA_B6_(1).ipynb\" target=\"_parent\"><img src=\"https://colab.research.google.com/assets/colab-badge.svg\" alt=\"Open In Colab\"/></a>"
      ]
    },
    {
      "cell_type": "markdown",
      "source": [
        "# Answer the following questions using only builtin Python datatypes and functions. Do not use Numpy or Scipy (i.e. No library imports allowed)"
      ],
      "metadata": {
        "id": "zVV_KMSIUG-A"
      }
    },
    {
      "cell_type": "markdown",
      "source": [
        "# Q1. Write a function that return the range (maximum and minimun) of a given list of numbers"
      ],
      "metadata": {
        "id": "uZnK7VgWV5SI"
      }
    },
    {
      "cell_type": "code",
      "source": [
        "numbers = [2,4,8,-2,6,10]\n",
        "result = find_range (numbers)\n",
        "print(\"Range (Min, Max):\", result)"
      ],
      "metadata": {
        "id": "vuAbJQcOWAM7",
        "colab": {
          "base_uri": "https://localhost:8080/"
        },
        "outputId": "a385ad09-e29f-477c-894a-8692f3aed200"
      },
      "execution_count": 95,
      "outputs": [
        {
          "output_type": "stream",
          "name": "stdout",
          "text": [
            "min = -2\n",
            "max = 10\n",
            "Range (Min, Max): None\n"
          ]
        }
      ]
    },
    {
      "cell_type": "markdown",
      "source": [
        "## Q2. Write function that returns mean value of a list of numbers"
      ],
      "metadata": {
        "id": "Y5_v5a8_U1O-"
      }
    },
    {
      "cell_type": "code",
      "source": [
        "numbers = (1,3,2,5,9,7)\n",
        "mean = sum(numbers) / len(numbers)\n",
        "print(\"mean = \", mean)"
      ],
      "metadata": {
        "id": "RajjEyacU7Sc",
        "colab": {
          "base_uri": "https://localhost:8080/"
        },
        "outputId": "8c14f8de-36e7-469d-e795-7d49b69b4b48"
      },
      "execution_count": 2,
      "outputs": [
        {
          "output_type": "stream",
          "name": "stdout",
          "text": [
            "mean =  4.5\n"
          ]
        }
      ]
    },
    {
      "cell_type": "markdown",
      "source": [
        "# Q3. Write a function that returns the median value of a list of numbers"
      ],
      "metadata": {
        "id": "OpeRxoEoVTIP"
      }
    },
    {
      "cell_type": "code",
      "source": [
        "numbers = (1,3,2,5,9,7)\n",
        "sorted_numbers = sorted(numbers)\n",
        "n = len(numbers)\n",
        "if n % 2 == 1:\n",
        "    median = numbers[n // 2]\n",
        "else:\n",
        "    median = (numbers[n // 2 - 1] + numbers[n // 2]) / 2\n",
        "print(\"median =\", median)"
      ],
      "metadata": {
        "id": "u1CUy0UOVaQi",
        "colab": {
          "base_uri": "https://localhost:8080/"
        },
        "outputId": "9d23b1b8-def9-43c1-fc36-4104140f1961"
      },
      "execution_count": 4,
      "outputs": [
        {
          "output_type": "stream",
          "name": "stdout",
          "text": [
            "median = 3.5\n"
          ]
        }
      ]
    },
    {
      "cell_type": "markdown",
      "source": [
        "## Q4. Write a function to return the mod of a list of numbers, if no mod exists, it should return None. If more than one mod exist, return the mod values as list"
      ],
      "metadata": {
        "id": "2EMOG7AZSqVn"
      }
    },
    {
      "cell_type": "code",
      "source": [],
      "metadata": {
        "id": "VAvvJpYYhcmL"
      },
      "execution_count": null,
      "outputs": []
    },
    {
      "cell_type": "code",
      "execution_count": 49,
      "metadata": {
        "id": "qnMm2dhhSk3-",
        "colab": {
          "base_uri": "https://localhost:8080/"
        },
        "outputId": "63fc06c2-778c-432a-ff71-e9908683d5e2"
      },
      "outputs": [
        {
          "output_type": "stream",
          "name": "stdout",
          "text": [
            "mode: None\n"
          ]
        }
      ],
      "source": [
        "def find_mode(numbers):\n",
        "  if not numbers:\n",
        "      return None\n",
        "\n",
        "  freq = {}\n",
        "  for num in numbers:\n",
        "      if num in freq:\n",
        "          freq[num] += 1\n",
        "      else:\n",
        "          freq[num] = 1\n",
        "  max_freq = max(freq.values())\n",
        "\n",
        "  if max_freq == 1:\n",
        "      return None\n",
        "\n",
        "  mode = [num for num in freq if freq[num] == max_freq]\n",
        "  return mode[0] if len(mode) == 1 else mode\n",
        "\n",
        "data = [1,2,3,4,5]\n",
        "result = find_mode(data)\n",
        "print(\"mode:\", result)"
      ]
    },
    {
      "cell_type": "markdown",
      "source": [
        "## Q5. Write function to compute a given percentile value (e.g. 90th percentile) of a list of numbers"
      ],
      "metadata": {
        "id": "LcqWwqtgTCiL"
      }
    },
    {
      "cell_type": "code",
      "source": [
        "def find_percentile(numbers, percentile):\n",
        "    if not numbers:\n",
        "        return None\n",
        "    numbers = sorted(numbers)\n",
        "    n = len(numbers)\n",
        "    rank = (percentile / 100) * (n - 1)\n",
        "    lower_index = int(rank)\n",
        "    upper_index = lower_index + 1\n",
        "    if upper_index >= n:\n",
        "        return numbers[lower_index]\n",
        "    fraction = rank - lower_index\n",
        "    return numbers[lower_index] + fraction * (numbers[upper_index] - numbers[lower_index])\n",
        "data = [10,20,30,40,50]\n",
        "percent = 90\n",
        "result = find_percentile(data, percent)\n",
        "print(f\"{percent}th percentile =\",result)\n"
      ],
      "metadata": {
        "id": "Sn307h0TTb2b",
        "colab": {
          "base_uri": "https://localhost:8080/"
        },
        "outputId": "f9afe982-6355-445a-a622-b3ae252ba08c"
      },
      "execution_count": 53,
      "outputs": [
        {
          "output_type": "stream",
          "name": "stdout",
          "text": [
            "90th percentile = 46.0\n"
          ]
        }
      ]
    },
    {
      "cell_type": "markdown",
      "source": [
        "# Q6. Write a function that returns the lower bound of a list of numbers"
      ],
      "metadata": {
        "id": "N-TYHkDcWOfS"
      }
    },
    {
      "cell_type": "code",
      "source": [
        "def find_lower_bound(numbers):\n",
        "    if not numbers:\n",
        "        return None\n",
        "\n",
        "    numbers = sorted(numbers)\n",
        "    n = len(numbers)\n",
        "\n",
        "    def median(data):\n",
        "        length = len(data)\n",
        "        mid = length // 2\n",
        "        if length % 2 == 0:\n",
        "            return (data[mid - 1] + data[mid]) / 2\n",
        "        else:\n",
        "            return data[mid]\n",
        "\n",
        "    mid_index = n // 2\n",
        "    lower_half = numbers[:mid_index]\n",
        "    upper_half = numbers[mid_index:] if n % 2 == 0 else numbers[mid_index+1:]\n",
        "\n",
        "    Q1 = median(lower_half)\n",
        "    Q3 = median(upper_half)\n",
        "    IQR = Q3 - Q1\n",
        "    lower_bound = Q1 - 1.5 * IQR\n",
        "\n",
        "    return lower_bound\n",
        "\n",
        "data = [5,8,9,11,23,45,6,99]\n",
        "lb = find_lower_bound(data)\n",
        "print(\"Lower Bound:\", lb)\n"
      ],
      "metadata": {
        "id": "Y-RKPdKuW5nx",
        "colab": {
          "base_uri": "https://localhost:8080/"
        },
        "outputId": "e66d7945-5dad-426d-c130-e1b1f6d81ec4"
      },
      "execution_count": 68,
      "outputs": [
        {
          "output_type": "stream",
          "name": "stdout",
          "text": [
            "Lower Bound: -33.5\n"
          ]
        }
      ]
    },
    {
      "cell_type": "markdown",
      "source": [
        "## Q7. Write function to return any outliers from a given list of numbers, if no outliers present it should return None"
      ],
      "metadata": {
        "id": "5aHfaI_jThpX"
      }
    },
    {
      "cell_type": "code",
      "source": [
        "numbers = [10, 12,14, 15, 16,18,150 ]\n",
        "\n",
        "def get_percentile(numbers, percentile):\n",
        "    numbers.sort()\n",
        "    n = len(numbers)\n",
        "    rank = (percentile / 100) * (n - 1)\n",
        "    lower_index = int(rank)\n",
        "    upper_index = lower_index + 1\n",
        "\n",
        "    if upper_index >= n:\n",
        "        return numbers[lower_index]\n",
        "\n",
        "    fraction = rank - lower_index\n",
        "    return numbers[lower_index] + fraction * (numbers[upper_index] - numbers[lower_index])\n",
        "def find_outliers(numbers):\n",
        "    if not numbers:\n",
        "        return None\n",
        "\n",
        "    q1 = get_percentile(numbers.copy(), 25)\n",
        "    q3 = get_percentile(numbers.copy(), 75)\n",
        "    iqr = q3 - q1\n",
        "    lower_bound = q1 - 1.5 * iqr\n",
        "    upper_bound = q3 + 1.5 * iqr\n",
        "\n",
        "    outliers = [x for x in numbers if x < lower_bound or x > upper_bound]\n",
        "    return outliers if outliers else None\n",
        "print(\"Outliers:\", find_outliers(numbers))\n"
      ],
      "metadata": {
        "id": "gG6-qzT7T0Si",
        "colab": {
          "base_uri": "https://localhost:8080/"
        },
        "outputId": "39bbdcff-57e1-4f37-dd6d-d4224c8c7800"
      },
      "execution_count": 88,
      "outputs": [
        {
          "output_type": "stream",
          "name": "stdout",
          "text": [
            "Outliers: [150]\n"
          ]
        }
      ]
    },
    {
      "cell_type": "markdown",
      "source": [
        "##Q8. Write a function to return standard deviation of a list of numbers"
      ],
      "metadata": {
        "id": "jI9t-tcDT5EK"
      }
    },
    {
      "cell_type": "code",
      "source": [
        "def standard_deviation(numbers):\n",
        "    if not numbers:\n",
        "        return None\n",
        "\n",
        "    mean = sum(numbers) / len(numbers)\n",
        "    variance = sum((x - mean) ** 2 for x in numbers) / len(numbers)\n",
        "    std_dev = variance ** 0.5\n",
        "    return std_dev\n",
        "print(standard_deviation([9,22,34,16,19,54,25]))\n",
        "\n"
      ],
      "metadata": {
        "id": "MMU_cMlLUFxJ",
        "colab": {
          "base_uri": "https://localhost:8080/"
        },
        "outputId": "e46d608e-56e2-417e-8a5e-6d4b8a2637ac"
      },
      "execution_count": 91,
      "outputs": [
        {
          "output_type": "stream",
          "name": "stdout",
          "text": [
            "13.636685215750541\n"
          ]
        }
      ]
    },
    {
      "cell_type": "markdown",
      "source": [
        "## Q9. Write function to compute and return Z-score values of a list of numbers"
      ],
      "metadata": {
        "id": "LufmQDJPURkM"
      }
    },
    {
      "cell_type": "code",
      "source": [
        "def z_scores(numbers):\n",
        "    n = len(numbers)\n",
        "    if n == 0:\n",
        "        return None\n",
        "    if n == 1:\n",
        "        return [0]\n",
        "    mean = sum(numbers) / n\n",
        "    variance = sum((x - mean) ** 2 for x in numbers) / (n - 1)\n",
        "    std_dev = variance ** 0.5\n",
        "    if std_dev == 0:\n",
        "        return [0] * n\n",
        "\n",
        "    return [round((x - mean) / std_dev, 3) for x in numbers]\n",
        "\n",
        "print(z_scores([15, 25, 35, 45, 55]))\n",
        "\n"
      ],
      "metadata": {
        "id": "ml2qpSpFUYxV",
        "colab": {
          "base_uri": "https://localhost:8080/"
        },
        "outputId": "eaf4f286-68f0-4bac-a54b-30ac9c47e1fe"
      },
      "execution_count": 104,
      "outputs": [
        {
          "output_type": "stream",
          "name": "stdout",
          "text": [
            "[-1.265, -0.632, 0.0, 0.632, 1.265]\n"
          ]
        }
      ]
    },
    {
      "cell_type": "markdown",
      "source": [
        "## Q10. Write a function to compute and return the Pearson correlation coefficient value of two list of numbers"
      ],
      "metadata": {
        "id": "YQSNHIfxUb6s"
      }
    },
    {
      "cell_type": "code",
      "source": [
        "def pearson_correlation(x, y):\n",
        "    if not x or not y or len(x) != len(y):\n",
        "        return None\n",
        "\n",
        "    n = len(x)\n",
        "    mean_x = sum(x) / n\n",
        "    mean_y = sum(y) / n\n",
        "\n",
        "    numerator = sum((x[i] - mean_x) * (y[i] - mean_y) for i in range(n))\n",
        "    denominator_x = sum((x[i] - mean_x) ** 2 for i in range(n))\n",
        "    denominator_y = sum((y[i] - mean_y) ** 2 for i in range(n))\n",
        "\n",
        "    denominator = (denominator_x * denominator_y) ** 0.5\n",
        "    if denominator == 0:\n",
        "        return None\n",
        "\n",
        "    return numerator / denominator\n",
        "x = [10, 20, 30, 40, 50]\n",
        "y = [20, 40, 50, 45, 55]\n",
        "\n",
        "print(pearson_correlation(x, y))\n"
      ],
      "metadata": {
        "id": "1YGqr3T6Uk6H",
        "colab": {
          "base_uri": "https://localhost:8080/"
        },
        "outputId": "d5218f3f-b08a-4ef0-9dfe-d3a26ce21295"
      },
      "execution_count": 106,
      "outputs": [
        {
          "output_type": "stream",
          "name": "stdout",
          "text": [
            "0.8778086039709793\n"
          ]
        }
      ]
    }
  ]
}