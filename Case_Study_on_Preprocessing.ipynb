{
  "nbformat": 4,
  "nbformat_minor": 0,
  "metadata": {
    "colab": {
      "provenance": [],
      "authorship_tag": "ABX9TyO++nWeQJ+pS2yx/EIQ8S5W",
      "include_colab_link": true
    },
    "kernelspec": {
      "name": "python3",
      "display_name": "Python 3"
    },
    "language_info": {
      "name": "python"
    }
  },
  "cells": [
    {
      "cell_type": "markdown",
      "metadata": {
        "id": "view-in-github",
        "colab_type": "text"
      },
      "source": [
        "<a href=\"https://colab.research.google.com/github/ahsal075/ahsal/blob/main/Case_Study_on_Preprocessing.ipynb\" target=\"_parent\"><img src=\"https://colab.research.google.com/assets/colab-badge.svg\" alt=\"Open In Colab\"/></a>"
      ]
    },
    {
      "cell_type": "code",
      "source": [
        "import pandas as pd\n",
        "import numpy as np\n",
        "from sklearn.preprocessing import MinMaxScaler, StandardScaler, LabelEncoder\n",
        "from sklearn.model_selection import train_test_split"
      ],
      "metadata": {
        "id": "YDeo0r_HFWmo"
      },
      "execution_count": 23,
      "outputs": []
    },
    {
      "cell_type": "code",
      "source": [
        "## Load the dataset House_Pricing.csv\n",
        "df = pd.read_csv(\"/content/House_Pricing (2).csv\")"
      ],
      "metadata": {
        "id": "QCXvhyc7FXEE"
      },
      "execution_count": 24,
      "outputs": []
    },
    {
      "cell_type": "code",
      "source": [
        "## Basic Info,Describe\n",
        "print(\"📋 Dataset Info:\")\n",
        "print(df.info())\n",
        "print(\"\\n📊 Descriptive Stats:\")\n",
        "print(df.describe(include='all'))"
      ],
      "metadata": {
        "colab": {
          "base_uri": "https://localhost:8080/"
        },
        "collapsed": true,
        "id": "BBeAtE1kFXm5",
        "outputId": "af3040af-8009-4a8e-e23e-a7e66551366d"
      },
      "execution_count": 25,
      "outputs": [
        {
          "output_type": "stream",
          "name": "stdout",
          "text": [
            "📋 Dataset Info:\n",
            "<class 'pandas.core.frame.DataFrame'>\n",
            "RangeIndex: 21613 entries, 0 to 21612\n",
            "Data columns (total 21 columns):\n",
            " #   Column                                     Non-Null Count  Dtype  \n",
            "---  ------                                     --------------  -----  \n",
            " 0   ID                                         21613 non-null  int64  \n",
            " 1   Date House was Sold                        21613 non-null  object \n",
            " 2   Sale Price                                 21609 non-null  float64\n",
            " 3   No of Bedrooms                             21613 non-null  int64  \n",
            " 4   No of Bathrooms                            21609 non-null  float64\n",
            " 5   Flat Area (in Sqft)                        21604 non-null  float64\n",
            " 6   Lot Area (in Sqft)                         21604 non-null  float64\n",
            " 7   No of Floors                               21613 non-null  float64\n",
            " 8   Waterfront View                            21613 non-null  object \n",
            " 9   No of Times Visited                        2124 non-null   object \n",
            " 10  Condition of the House                     21613 non-null  object \n",
            " 11  Overall Grade                              21613 non-null  int64  \n",
            " 12  Area of the House from Basement (in Sqft)  21610 non-null  float64\n",
            " 13  Basement Area (in Sqft)                    21613 non-null  int64  \n",
            " 14  Age of House (in Years)                    21613 non-null  int64  \n",
            " 15  Renovated Year                             21613 non-null  int64  \n",
            " 16  Zipcode                                    21612 non-null  float64\n",
            " 17  Latitude                                   21612 non-null  float64\n",
            " 18  Longitude                                  21612 non-null  float64\n",
            " 19  Living Area after Renovation (in Sqft)     21612 non-null  float64\n",
            " 20  Lot Area after Renovation (in Sqft)        21613 non-null  int64  \n",
            "dtypes: float64(10), int64(7), object(4)\n",
            "memory usage: 3.5+ MB\n",
            "None\n",
            "\n",
            "📊 Descriptive Stats:\n",
            "                  ID Date House was Sold    Sale Price  No of Bedrooms  \\\n",
            "count   2.161300e+04               21613  2.160900e+04    21613.000000   \n",
            "unique           NaN                  13           NaN             NaN   \n",
            "top              NaN       15 April 2016           NaN             NaN   \n",
            "freq             NaN                2231           NaN             NaN   \n",
            "mean    4.580302e+09                 NaN  5.401984e+05        3.370842   \n",
            "std     2.876566e+09                 NaN  3.673890e+05        0.930062   \n",
            "min     1.000102e+06                 NaN  7.500000e+04        0.000000   \n",
            "25%     2.123049e+09                 NaN  3.219500e+05        3.000000   \n",
            "50%     3.904930e+09                 NaN  4.500000e+05        3.000000   \n",
            "75%     7.308900e+09                 NaN  6.450000e+05        4.000000   \n",
            "max     9.900000e+09                 NaN  7.700000e+06       33.000000   \n",
            "\n",
            "        No of Bathrooms  Flat Area (in Sqft)  Lot Area (in Sqft)  \\\n",
            "count      21609.000000         21604.000000        2.160400e+04   \n",
            "unique              NaN                  NaN                 NaN   \n",
            "top                 NaN                  NaN                 NaN   \n",
            "freq                NaN                  NaN                 NaN   \n",
            "mean           2.114732          2079.931772        1.510776e+04   \n",
            "std            0.770138           918.487597        4.142827e+04   \n",
            "min            0.000000           290.000000        5.200000e+02   \n",
            "25%            1.750000          1429.250000        5.040000e+03   \n",
            "50%            2.250000          1910.000000        7.617500e+03   \n",
            "75%            2.500000          2550.000000        1.068825e+04   \n",
            "max            8.000000         13540.000000        1.651359e+06   \n",
            "\n",
            "        No of Floors Waterfront View No of Times Visited  ... Overall Grade  \\\n",
            "count   21613.000000           21613                2124  ...  21613.000000   \n",
            "unique           NaN               2                   4  ...           NaN   \n",
            "top              NaN              No               Twice  ...           NaN   \n",
            "freq             NaN           21450                 963  ...           NaN   \n",
            "mean        1.494309             NaN                 NaN  ...      7.623467   \n",
            "std         0.539989             NaN                 NaN  ...      1.105439   \n",
            "min         1.000000             NaN                 NaN  ...      1.000000   \n",
            "25%         1.000000             NaN                 NaN  ...      7.000000   \n",
            "50%         1.500000             NaN                 NaN  ...      7.000000   \n",
            "75%         2.000000             NaN                 NaN  ...      8.000000   \n",
            "max         3.500000             NaN                 NaN  ...     10.000000   \n",
            "\n",
            "        Area of the House from Basement (in Sqft)  Basement Area (in Sqft)  \\\n",
            "count                                21610.000000             21613.000000   \n",
            "unique                                        NaN                      NaN   \n",
            "top                                           NaN                      NaN   \n",
            "freq                                          NaN                      NaN   \n",
            "mean                                  1788.344193               291.509045   \n",
            "std                                    827.982604               442.575043   \n",
            "min                                    290.000000                 0.000000   \n",
            "25%                                   1190.000000                 0.000000   \n",
            "50%                                   1560.000000                 0.000000   \n",
            "75%                                   2210.000000               560.000000   \n",
            "max                                   9410.000000              4820.000000   \n",
            "\n",
            "        Age of House (in Years)  Renovated Year       Zipcode      Latitude  \\\n",
            "count              21613.000000    21613.000000  21612.000000  21612.000000   \n",
            "unique                      NaN             NaN           NaN           NaN   \n",
            "top                         NaN             NaN           NaN           NaN   \n",
            "freq                        NaN             NaN           NaN           NaN   \n",
            "mean                  46.994864       84.402258  98077.937766     47.560048   \n",
            "std                   29.373411      401.679240     53.505425      0.138565   \n",
            "min                    3.000000        0.000000  98001.000000     47.155900   \n",
            "25%                   21.000000        0.000000  98033.000000     47.470975   \n",
            "50%                   43.000000        0.000000  98065.000000     47.571800   \n",
            "75%                   67.000000        0.000000  98118.000000     47.678000   \n",
            "max                  118.000000     2015.000000  98199.000000     47.777600   \n",
            "\n",
            "           Longitude  Living Area after Renovation (in Sqft)  \\\n",
            "count   21612.000000                            21612.000000   \n",
            "unique           NaN                                     NaN   \n",
            "top              NaN                                     NaN   \n",
            "freq             NaN                                     NaN   \n",
            "mean     -122.213892                             1986.538914   \n",
            "std         0.140830                              685.404255   \n",
            "min      -122.519000                              399.000000   \n",
            "25%      -122.328000                             1490.000000   \n",
            "50%      -122.230000                             1840.000000   \n",
            "75%      -122.125000                             2360.000000   \n",
            "max      -121.315000                             6210.000000   \n",
            "\n",
            "        Lot Area after Renovation (in Sqft)  \n",
            "count                          21613.000000  \n",
            "unique                                  NaN  \n",
            "top                                     NaN  \n",
            "freq                                    NaN  \n",
            "mean                           12768.455652  \n",
            "std                            27304.179631  \n",
            "min                              651.000000  \n",
            "25%                             5100.000000  \n",
            "50%                             7620.000000  \n",
            "75%                            10083.000000  \n",
            "max                           871200.000000  \n",
            "\n",
            "[11 rows x 21 columns]\n"
          ]
        }
      ]
    },
    {
      "cell_type": "code",
      "source": [
        "## Remove Duplicate Rows and Columns\n",
        "df = df.drop_duplicates()"
      ],
      "metadata": {
        "id": "NSr8RKRtFr4a"
      },
      "execution_count": 26,
      "outputs": []
    },
    {
      "cell_type": "code",
      "source": [
        "## Checking for duplicate columns\n",
        "to_drop = []\n",
        "cols = df.columns\n",
        "for i in range(len(cols)):\n",
        "    for j in range(i + 1, len(cols)):\n",
        "        if df[cols[i]].equals(df[cols[j]]):\n",
        "            to_drop.append(cols[j])\n",
        "\n",
        "df = df.drop(columns=to_drop)"
      ],
      "metadata": {
        "id": "-9noq-ZGFwQn"
      },
      "execution_count": 27,
      "outputs": []
    },
    {
      "cell_type": "code",
      "source": [
        "## Handle Missing Values\n",
        "df = df.fillna(df.mean(numeric_only=True))"
      ],
      "metadata": {
        "id": "xz7rslp3GEvx"
      },
      "execution_count": 28,
      "outputs": []
    },
    {
      "cell_type": "code",
      "source": [
        "## Scaling Numerical Variables\n",
        "numerical_cols = df.select_dtypes(include=[np.number]).columns.tolist()\n",
        "numerical_cols.remove(\"Sale Price\")\n",
        "\n",
        "scaler = StandardScaler()\n",
        "df[numerical_cols] = scaler.fit_transform(df[numerical_cols])"
      ],
      "metadata": {
        "id": "KSMBHYifGJOe"
      },
      "execution_count": 29,
      "outputs": []
    },
    {
      "cell_type": "code",
      "source": [
        "## Encoding Categorical Variables\n",
        "categorical_cols = df.select_dtypes(include=['object']).columns.tolist()\n",
        "\n",
        "## One-Hot Encoding for nominal categories\n",
        "df = pd.get_dummies(df, columns=categorical_cols, drop_first=True)"
      ],
      "metadata": {
        "id": "JH4f-_4xGNlw"
      },
      "execution_count": 19,
      "outputs": []
    },
    {
      "cell_type": "code",
      "source": [
        "## Outlier Removal\n",
        "Q1 = df[numerical_cols].quantile(0.25)\n",
        "Q3 = df[numerical_cols].quantile(0.75)\n",
        "IQR = Q3 - Q1\n",
        "\n",
        "## Keep only non-outlier rows\n",
        "df = df[~((df[numerical_cols] < (Q1 - 1.5 * IQR)) | (df[numerical_cols] > (Q3 + 1.5 * IQR))).any(axis=1)]"
      ],
      "metadata": {
        "id": "T-pfUbdtGTHc"
      },
      "execution_count": 30,
      "outputs": []
    },
    {
      "cell_type": "code",
      "source": [
        "## Train-Test Split\n",
        "X = df.drop(\"Sale Price\", axis=1)\n",
        "y = df[\"Sale Price\"]\n",
        "\n",
        "X_train, X_test, y_train, y_test = train_test_split(X, y, test_size=0.2, random_state=42)\n",
        "\n",
        "print(\"\\n Preprocessing Complete!\")\n",
        "print(\"Training Set Shape:\", X_train.shape)\n",
        "print(\"Testing Set Shape:\", X_test.shape)"
      ],
      "metadata": {
        "colab": {
          "base_uri": "https://localhost:8080/"
        },
        "id": "Qpk1t-awGa3G",
        "outputId": "0c99ae58-f494-4e9c-8807-94334beb4605"
      },
      "execution_count": 33,
      "outputs": [
        {
          "output_type": "stream",
          "name": "stdout",
          "text": [
            "\n",
            " Preprocessing Complete!\n",
            "Training Set Shape: (12886, 20)\n",
            "Testing Set Shape: (3222, 20)\n"
          ]
        }
      ]
    }
  ]
}