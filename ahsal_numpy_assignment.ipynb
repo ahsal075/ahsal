{
  "nbformat": 4,
  "nbformat_minor": 0,
  "metadata": {
    "colab": {
      "provenance": [],
      "toc_visible": true,
      "authorship_tag": "ABX9TyMth0LurlbCfpJ1tfBiTG+A",
      "include_colab_link": true
    },
    "kernelspec": {
      "name": "python3",
      "display_name": "Python 3"
    },
    "language_info": {
      "name": "python"
    }
  },
  "cells": [
    {
      "cell_type": "markdown",
      "metadata": {
        "id": "view-in-github",
        "colab_type": "text"
      },
      "source": [
        "<a href=\"https://colab.research.google.com/github/ahsal075/ahsal/blob/main/ahsal_numpy_assignment.ipynb\" target=\"_parent\"><img src=\"https://colab.research.google.com/assets/colab-badge.svg\" alt=\"Open In Colab\"/></a>"
      ]
    },
    {
      "cell_type": "markdown",
      "source": [
        "##1. Create a NumPy array with values from 10 to 49 (inclusive).\n",
        "● Reshape it into a 4x10 matrix.\n",
        "\n",
        "● Then extract the last column from the reshaped matrix"
      ],
      "metadata": {
        "id": "plBFIqHUwcKd"
      }
    },
    {
      "cell_type": "code",
      "execution_count": null,
      "metadata": {
        "colab": {
          "base_uri": "https://localhost:8080/"
        },
        "id": "Fh9Buw9TuvAB",
        "outputId": "2686c103-5faf-4e97-d830-ef4e6b42bfad"
      },
      "outputs": [
        {
          "output_type": "stream",
          "name": "stdout",
          "text": [
            "Reshaped 4x10 Matrix:\n",
            " [[10 11 12 13 14 15 16 17 18 19]\n",
            " [20 21 22 23 24 25 26 27 28 29]\n",
            " [30 31 32 33 34 35 36 37 38 39]\n",
            " [40 41 42 43 44 45 46 47 48 49]]\n",
            "\n",
            "Last Column:\n",
            " [19 29 39 49]\n"
          ]
        }
      ],
      "source": [
        "import numpy as np\n",
        "arr = np.arange(10, 50)\n",
        "reshaped_arr = arr.reshape(4, 10)\n",
        "last_column = reshaped_arr[:, -1]\n",
        "import numpy as np\n",
        "print(\"Reshaped 4x10 Matrix:\\n\", reshaped_arr)\n",
        "print(\"\\nLast Column:\\n\", last_column)\n"
      ]
    },
    {
      "cell_type": "markdown",
      "source": [
        "##2. Create two 3×3 matrices:\n",
        "One filled with all 5s , One with values from 1 to 9\n",
        "\n",
        "● Add the two matrices\n",
        "\n",
        "● Multiply them element-wise\n",
        "\n",
        "● Then find the transpose of the result"
      ],
      "metadata": {
        "id": "Wir3-772wqHE"
      }
    },
    {
      "cell_type": "code",
      "source": [
        "import numpy as np\n",
        "matrix_5s = np.full((3, 3), 5)\n",
        "matrix_1to9 = np.arange(1, 10).reshape(3, 3)\n",
        "added = matrix_5s + matrix_1to9\n",
        "multiplied = matrix_5s * matrix_1to9\n",
        "transpose_result = multiplied.T\n",
        "print(\"Matrix filled with 5s:\\n\", matrix_5s)\n",
        "print(\"\\nMatrix with values 1 to 9:\\n\", matrix_1to9)\n",
        "print(\"\\nAdded Matrices:\\n\", added)\n",
        "print(\"\\nElement-wise Multiplication:\\n\", multiplied)\n",
        "print(\"\\nTranspose of the Multiplication Result:\\n\", transpose_result)\n"
      ],
      "metadata": {
        "colab": {
          "base_uri": "https://localhost:8080/"
        },
        "id": "Rs7K234nw0vU",
        "outputId": "c3da6ceb-49ae-4c24-de9d-8c4a3bcb941b"
      },
      "execution_count": null,
      "outputs": [
        {
          "output_type": "stream",
          "name": "stdout",
          "text": [
            "Matrix filled with 5s:\n",
            " [[5 5 5]\n",
            " [5 5 5]\n",
            " [5 5 5]]\n",
            "\n",
            "Matrix with values 1 to 9:\n",
            " [[1 2 3]\n",
            " [4 5 6]\n",
            " [7 8 9]]\n",
            "\n",
            "Added Matrices:\n",
            " [[ 6  7  8]\n",
            " [ 9 10 11]\n",
            " [12 13 14]]\n",
            "\n",
            "Element-wise Multiplication:\n",
            " [[ 5 10 15]\n",
            " [20 25 30]\n",
            " [35 40 45]]\n",
            "\n",
            "Transpose of the Multiplication Result:\n",
            " [[ 5 20 35]\n",
            " [10 25 40]\n",
            " [15 30 45]]\n"
          ]
        }
      ]
    },
    {
      "cell_type": "markdown",
      "source": [
        "##3. Create a NumPy array of 15 random integers between 10 and 100.\n",
        "● Replace all values greater than 50 with -1\n",
        "\n",
        "● Count how many values were replaced."
      ],
      "metadata": {
        "id": "8vu38t6fxVWo"
      }
    },
    {
      "cell_type": "code",
      "source": [
        "import numpy as np\n",
        "arr = np.random.randint(10, 101, size=15)\n",
        "print(\"Original Array:\\n\", arr)\n",
        "replaced_arr = arr.copy()\n",
        "replaced_arr[replaced_arr > 50] = -1\n",
        "count_replaced = np.sum(arr > 50)\n",
        "print(\"\\nModified Array:\\n\", replaced_arr)\n",
        "print(\"\\nNumber of values replaced:\", count_replaced)\n"
      ],
      "metadata": {
        "colab": {
          "base_uri": "https://localhost:8080/"
        },
        "id": "h7J5Y98ExZ18",
        "outputId": "699e7c91-fe10-4985-e7f3-a9a416ae3721"
      },
      "execution_count": null,
      "outputs": [
        {
          "output_type": "stream",
          "name": "stdout",
          "text": [
            "Original Array:\n",
            " [31 49 31 39 34 43 71 63 66 32 67 66 13 13 60]\n",
            "\n",
            "Modified Array:\n",
            " [31 49 31 39 34 43 -1 -1 -1 32 -1 -1 13 13 -1]\n",
            "\n",
            "Number of values replaced: 6\n"
          ]
        }
      ]
    },
    {
      "cell_type": "markdown",
      "source": [
        "##4. Generate a 5×4 array with random values between 0 and 1 (float).\n",
        "● Find the row with the maximum sum of values.\n",
        "\n",
        "● Normalize each row using the formula:\n"
      ],
      "metadata": {
        "id": "tnU5q3JHyBBw"
      }
    },
    {
      "cell_type": "code",
      "source": [
        "import numpy as np\n",
        "arr = np.random.rand(5, 4)\n",
        "print(\"Original Array:\\n\", arr)\n",
        "row_sums = np.sum(arr, axis=1)\n",
        "max_row_index = np.argmax(row_sums)\n",
        "print(\"\\nRow with Maximum Sum (Index:\", max_row_index, \"):\\n\", arr[max_row_index])\n",
        "normalized_arr = np.zeros_like(arr)\n",
        "for i in range(arr.shape[0]):\n",
        "    row = arr[i]\n",
        "    row_min = np.min(row)\n",
        "    row_max = np.max(row)\n",
        "    if row_max != row_min:\n",
        "        normalized_arr[i] = (row - row_min) / (row_max - row_min)\n",
        "    else:\n",
        "        normalized_arr[i] = 0\n",
        "print(\"\\nNormalized Array:\\n\", normalized_arr)\n"
      ],
      "metadata": {
        "colab": {
          "base_uri": "https://localhost:8080/"
        },
        "id": "sliFAEg7yy_K",
        "outputId": "91bb042c-28be-49f3-a5ed-cbec9ecc7c04"
      },
      "execution_count": null,
      "outputs": [
        {
          "output_type": "stream",
          "name": "stdout",
          "text": [
            "Original Array:\n",
            " [[0.6799408  0.76635321 0.08983699 0.35186209]\n",
            " [0.89439336 0.8360463  0.18928888 0.48494435]\n",
            " [0.56856242 0.88777061 0.35966834 0.13333745]\n",
            " [0.08255575 0.86547246 0.33348573 0.48641537]\n",
            " [0.24491835 0.33937265 0.80484241 0.14140202]]\n",
            "\n",
            "Row with Maximum Sum (Index: 1 ):\n",
            " [0.89439336 0.8360463  0.18928888 0.48494435]\n",
            "\n",
            "Normalized Array:\n",
            " [[0.87226853 1.         0.         0.38731532]\n",
            " [1.         0.91725048 0.         0.41930732]\n",
            " [0.57689003 1.         0.30000125 0.        ]\n",
            " [0.         1.         0.32050661 0.51583983]\n",
            " [0.15602958 0.29840003 1.         0.        ]]\n"
          ]
        }
      ]
    },
    {
      "cell_type": "markdown",
      "source": [
        "##5. arr = np.array([1, 3, 5, 3, 7, 9, 1, 5, 5])\n",
        "● Find all unique elements\n",
        "\n",
        "● Find the duplicates (elements that appear more than once)"
      ],
      "metadata": {
        "id": "zjZ9aJEAzlVw"
      }
    },
    {
      "cell_type": "code",
      "source": [
        "import numpy as np\n",
        "arr = np.array([1, 3, 5, 3, 7, 9, 1, 5, 5])\n",
        "unique_elements = np.unique(arr)\n",
        "print(\"Unique elements:\", unique_elements)\n",
        "unique, counts = np.unique(arr, return_counts=True)\n",
        "duplicates = unique[counts > 1]\n",
        "print(\"Duplicate elements:\", duplicates)\n"
      ],
      "metadata": {
        "colab": {
          "base_uri": "https://localhost:8080/"
        },
        "id": "q4BkCoFIzog-",
        "outputId": "fa4bf4d8-540f-41a0-9c0b-420364fb37d1"
      },
      "execution_count": null,
      "outputs": [
        {
          "output_type": "stream",
          "name": "stdout",
          "text": [
            "Unique elements: [1 3 5 7 9]\n",
            "Duplicate elements: [1 3 5]\n"
          ]
        }
      ]
    },
    {
      "cell_type": "markdown",
      "source": [
        "##. Create a 6×6 NumPy array with values from 1 to 36.\n",
        "● Extract the middle 4×4 submatrix.\n",
        "\n",
        "● Then extract all even numbers from this submatrix."
      ],
      "metadata": {
        "id": "6F_yGP0z0M-y"
      }
    },
    {
      "cell_type": "code",
      "source": [
        "import numpy as np\n",
        "arr = np.arange(1, 37).reshape(6, 6)\n",
        "print(\"Original 6x6 Array:\\n\", arr)\n",
        "submatrix = arr[1:5, 1:5]\n",
        "print(\"\\nMiddle 4x4 Submatrix:\\n\", submatrix)\n",
        "even_numbers = submatrix[submatrix % 2 == 0]\n",
        "print(\"\\nEven numbers in the 4x4 submatrix:\\n\", even_numbers)\n"
      ],
      "metadata": {
        "colab": {
          "base_uri": "https://localhost:8080/"
        },
        "id": "G9Xy0NUG0VK2",
        "outputId": "7b4e4528-dc3f-4234-e988-d84815d3d4b2"
      },
      "execution_count": null,
      "outputs": [
        {
          "output_type": "stream",
          "name": "stdout",
          "text": [
            "Original 6x6 Array:\n",
            " [[ 1  2  3  4  5  6]\n",
            " [ 7  8  9 10 11 12]\n",
            " [13 14 15 16 17 18]\n",
            " [19 20 21 22 23 24]\n",
            " [25 26 27 28 29 30]\n",
            " [31 32 33 34 35 36]]\n",
            "\n",
            "Middle 4x4 Submatrix:\n",
            " [[ 8  9 10 11]\n",
            " [14 15 16 17]\n",
            " [20 21 22 23]\n",
            " [26 27 28 29]]\n",
            "\n",
            "Even numbers in the 4x4 submatrix:\n",
            " [ 8 10 14 16 20 22 26 28]\n"
          ]
        }
      ]
    },
    {
      "cell_type": "markdown",
      "source": [
        "##Generate an array of shape (3, 4) with values from 0 to 11.\n",
        "● Reshape it to (2, 6)\n",
        "\n",
        "● Then flatten it into a 1D array\n",
        "\n",
        "● Convert the 1D array back to shape (4, 3)"
      ],
      "metadata": {
        "id": "tYiicY_u0jxE"
      }
    },
    {
      "cell_type": "code",
      "source": [
        "import numpy as np\n",
        "arr = np.arange(12).reshape(3, 4)\n",
        "print(\"Original (3x4) array:\\n\", arr)\n",
        "reshaped_2x6 = arr.reshape(2, 6)\n",
        "print(\"\\nReshaped to (2x6):\\n\", reshaped_2x6)\n",
        "flattened = reshaped_2x6.flatten()\n",
        "print(\"\\nFlattened to 1D:\\n\", flattened)\n",
        "reshaped_4x3 = flattened.reshape(4, 3)\n",
        "print(\"\\nReshaped to (4x3):\\n\", reshaped_4x3)\n"
      ],
      "metadata": {
        "colab": {
          "base_uri": "https://localhost:8080/"
        },
        "id": "FBJDW_oE0r9Z",
        "outputId": "893bc152-7fdc-4215-c06d-ea92267de3d1"
      },
      "execution_count": null,
      "outputs": [
        {
          "output_type": "stream",
          "name": "stdout",
          "text": [
            "Original (3x4) array:\n",
            " [[ 0  1  2  3]\n",
            " [ 4  5  6  7]\n",
            " [ 8  9 10 11]]\n",
            "\n",
            "Reshaped to (2x6):\n",
            " [[ 0  1  2  3  4  5]\n",
            " [ 6  7  8  9 10 11]]\n",
            "\n",
            "Flattened to 1D:\n",
            " [ 0  1  2  3  4  5  6  7  8  9 10 11]\n",
            "\n",
            "Reshaped to (4x3):\n",
            " [[ 0  1  2]\n",
            " [ 3  4  5]\n",
            " [ 6  7  8]\n",
            " [ 9 10 11]]\n"
          ]
        }
      ]
    },
    {
      "cell_type": "markdown",
      "source": [
        "## Create an array: a = np.array([[1, 2], [3, 4]])\n",
        "● Append a new row [5, 6]\n",
        "\n",
        "● Then append a new column [7, 8, 9]"
      ],
      "metadata": {
        "id": "XUu-CEqT0_NE"
      }
    },
    {
      "cell_type": "code",
      "source": [
        "import numpy as np\n",
        "a = np.array([[1, 2], [3, 4]])\n",
        "print(\"Original array:\\n\", a)\n",
        "a = np.vstack([a, [5, 6]])\n",
        "print(\"\\nAfter appending row [5, 6]:\\n\", a)\n",
        "new_col = np.array([[7], [8], [9]])\n",
        "a = np.hstack([a, new_col])\n",
        "print(\"\\nAfter appending column [7, 8, 9]:\\n\", a)\n"
      ],
      "metadata": {
        "colab": {
          "base_uri": "https://localhost:8080/"
        },
        "id": "cKeMSSJf1JuG",
        "outputId": "5afef027-fae2-45e4-eb83-0589fb5be4ad"
      },
      "execution_count": null,
      "outputs": [
        {
          "output_type": "stream",
          "name": "stdout",
          "text": [
            "Original array:\n",
            " [[1 2]\n",
            " [3 4]]\n",
            "\n",
            "After appending row [5, 6]:\n",
            " [[1 2]\n",
            " [3 4]\n",
            " [5 6]]\n",
            "\n",
            "After appending column [7, 8, 9]:\n",
            " [[1 2 7]\n",
            " [3 4 8]\n",
            " [5 6 9]]\n"
          ]
        }
      ]
    },
    {
      "cell_type": "markdown",
      "source": [
        "##a = np.array([1, 2, 3])\n",
        "b = np.array([4, 5, 6])\n",
        "\n",
        "c = np.array([7, 8, 9])\n",
        "\n",
        "● Join them into a single array\n",
        "\n",
        "● Reshape the result into a 3×3 matrix\n",
        "\n",
        "● Extract the diagonal elements"
      ],
      "metadata": {
        "id": "874q543Q1WN4"
      }
    },
    {
      "cell_type": "code",
      "source": [
        "import numpy as np\n",
        "a = np.array([1, 2, 3])\n",
        "b = np.array([4, 5, 6])\n",
        "c = np.array([7, 8, 9])\n",
        "joined = np.concatenate((a, b, c))\n",
        "print(\"Joined array:\", joined)\n",
        "matrix_3x3 = joined.reshape(3, 3)\n",
        "print(\"\\n3x3 matrix:\\n\", matrix_3x3)\n",
        "diagonal_elements = np.diag(matrix_3x3)\n",
        "print(\"\\nDiagonal elements:\", diagonal_elements)\n"
      ],
      "metadata": {
        "colab": {
          "base_uri": "https://localhost:8080/"
        },
        "id": "zA-2cXHS1a8K",
        "outputId": "be3c8538-1263-4520-a7fe-c07c27924d2c"
      },
      "execution_count": null,
      "outputs": [
        {
          "output_type": "stream",
          "name": "stdout",
          "text": [
            "Joined array: [1 2 3 4 5 6 7 8 9]\n",
            "\n",
            "3x3 matrix:\n",
            " [[1 2 3]\n",
            " [4 5 6]\n",
            " [7 8 9]]\n",
            "\n",
            "Diagonal elements: [1 5 9]\n"
          ]
        }
      ]
    },
    {
      "cell_type": "markdown",
      "source": [
        "## Create a NumPy array of integers from 1 to 20.\n",
        "● Extract all values that are divisible by 3 or 5.\n",
        "\n",
        "● Count how many such values exist."
      ],
      "metadata": {
        "id": "zGgvbp-L1ygC"
      }
    },
    {
      "cell_type": "code",
      "source": [
        "import numpy as np\n",
        "arr = np.arange(1, 21)\n",
        "print(\"Original array:\", arr)\n",
        "divisible_by_3_or_5 = arr[(arr % 3 == 0) | (arr % 5 == 0)]\n",
        "print(\"Values divisible by 3 or 5:\", divisible_by_3_or_5)\n",
        "count = divisible_by_3_or_5.size\n",
        "print(\"Count:\", count)\n"
      ],
      "metadata": {
        "colab": {
          "base_uri": "https://localhost:8080/"
        },
        "id": "9vo8RR2C11ML",
        "outputId": "671e563a-e8b6-4a34-8d13-148dffa560f5"
      },
      "execution_count": null,
      "outputs": [
        {
          "output_type": "stream",
          "name": "stdout",
          "text": [
            "Original array: [ 1  2  3  4  5  6  7  8  9 10 11 12 13 14 15 16 17 18 19 20]\n",
            "Values divisible by 3 or 5: [ 3  5  6  9 10 12 15 18 20]\n",
            "Count: 9\n"
          ]
        }
      ]
    }
  ]
}