{
  "cells": [
    {
      "cell_type": "markdown",
      "metadata": {
        "id": "view-in-github",
        "colab_type": "text"
      },
      "source": [
        "<a href=\"https://colab.research.google.com/github/ahsal075/ahsal/blob/main/ahsal_python_assignment_b6.ipynb\" target=\"_parent\"><img src=\"https://colab.research.google.com/assets/colab-badge.svg\" alt=\"Open In Colab\"/></a>"
      ]
    },
    {
      "cell_type": "markdown",
      "id": "d2328cad",
      "metadata": {
        "id": "d2328cad"
      },
      "source": [
        "# Python Basics Assignment"
      ]
    },
    {
      "cell_type": "markdown",
      "id": "cb537954",
      "metadata": {
        "id": "cb537954"
      },
      "source": [
        "### Question 1\n",
        "Write a function to compute number of vowels in a string given as input"
      ]
    },
    {
      "cell_type": "code",
      "source": [
        "def vowels(a):\n",
        "    count = 0\n",
        "    for char in a:\n",
        "        if char.lower() in 'aeiou':\n",
        "            count += 1\n",
        "    return count\n",
        "print(\"number of vowels:\",vowels(\"Aabcd\"))\n"
      ],
      "metadata": {
        "colab": {
          "base_uri": "https://localhost:8080/"
        },
        "id": "DGyNrVu1KgkP",
        "outputId": "edbae5a1-d931-4285-d9dc-a7965154a5cd"
      },
      "id": "DGyNrVu1KgkP",
      "execution_count": null,
      "outputs": [
        {
          "output_type": "stream",
          "name": "stdout",
          "text": [
            "number of vowels: 2\n"
          ]
        }
      ]
    },
    {
      "cell_type": "markdown",
      "id": "4eaff430",
      "metadata": {
        "id": "4eaff430"
      },
      "source": [
        "### Question 2\n",
        "Write a function that checks whether a number is prime."
      ]
    },
    {
      "cell_type": "code",
      "source": [
        "def prime_numbers(a):\n",
        "    if a <= 1:\n",
        "        return False\n",
        "    for i in range(2, int(n**0.5) + 1):\n",
        "        if n % i == 0:\n",
        "            return False\n",
        "    return True\n",
        "n = 99\n",
        "print(prime_numbers(n))"
      ],
      "metadata": {
        "colab": {
          "base_uri": "https://localhost:8080/"
        },
        "id": "nDONnaEYL-gZ",
        "outputId": "6e143253-bee1-4836-e345-002e85be6a89"
      },
      "id": "nDONnaEYL-gZ",
      "execution_count": null,
      "outputs": [
        {
          "output_type": "stream",
          "name": "stdout",
          "text": [
            "False\n"
          ]
        }
      ]
    },
    {
      "cell_type": "markdown",
      "id": "5f061e50",
      "metadata": {
        "id": "5f061e50"
      },
      "source": [
        "### Question 3\n",
        "Write a function to return the maximum of two numbers."
      ]
    },
    {
      "cell_type": "code",
      "source": [
        "a = 100\n",
        "b = 250\n",
        "def find_max_of_three(a, b,):\n",
        "    if a < b:\n",
        "        return a\n",
        "    else:\n",
        "        return b\n",
        "print(\"Maximum:\", max(a, b,))"
      ],
      "metadata": {
        "colab": {
          "base_uri": "https://localhost:8080/"
        },
        "id": "mI2PHfyKP96h",
        "outputId": "584fcbd8-a534-42c5-a1f9-072724a94fda"
      },
      "id": "mI2PHfyKP96h",
      "execution_count": null,
      "outputs": [
        {
          "output_type": "stream",
          "name": "stdout",
          "text": [
            "Maximum: 250\n"
          ]
        }
      ]
    },
    {
      "cell_type": "markdown",
      "id": "7513ca91",
      "metadata": {
        "id": "7513ca91"
      },
      "source": [
        "### Question 4\n",
        "Write a function to return the factorial of a number."
      ]
    },
    {
      "cell_type": "code",
      "execution_count": null,
      "id": "6617842f",
      "metadata": {
        "colab": {
          "base_uri": "https://localhost:8080/"
        },
        "id": "6617842f",
        "outputId": "2f5b6966-eac6-453d-9444-7d01c3c8ccff"
      },
      "outputs": [
        {
          "output_type": "stream",
          "name": "stdout",
          "text": [
            "factorial of a number: 120\n"
          ]
        }
      ],
      "source": [
        "import math\n",
        "print(\"factorial of a number:\",math.factorial(5))"
      ]
    },
    {
      "cell_type": "markdown",
      "id": "9b942098",
      "metadata": {
        "id": "9b942098"
      },
      "source": [
        "### Question 5\n",
        "Write a function to reverse a string without string indexing."
      ]
    },
    {
      "cell_type": "code",
      "execution_count": null,
      "id": "d606b194",
      "metadata": {
        "colab": {
          "base_uri": "https://localhost:8080/"
        },
        "id": "d606b194",
        "outputId": "51a42254-a397-49fa-8abc-b032b56ed585"
      },
      "outputs": [
        {
          "output_type": "stream",
          "name": "stdout",
          "text": [
            "reversed string: lasha\n"
          ]
        }
      ],
      "source": [
        "def reverse_string(s):\n",
        "    result = \"\"\n",
        "    for char in s:\n",
        "        result = char + result\n",
        "    return result\n",
        "print(\"reversed string:\",reverse_string(\"ahsal\"))\n"
      ]
    },
    {
      "cell_type": "markdown",
      "id": "1abd915b",
      "metadata": {
        "id": "1abd915b"
      },
      "source": [
        "### Question 6\n",
        "Write a function to check if a string is a palindrome."
      ]
    },
    {
      "cell_type": "code",
      "execution_count": null,
      "id": "2b868fb3",
      "metadata": {
        "id": "2b868fb3",
        "colab": {
          "base_uri": "https://localhost:8080/"
        },
        "outputId": "71140176-30e2-4a61-a792-19353893aa72"
      },
      "outputs": [
        {
          "output_type": "stream",
          "name": "stdout",
          "text": [
            "False\n",
            "True\n"
          ]
        }
      ],
      "source": [
        "def palindrome(a):\n",
        "    return a == a[::-1]\n",
        "print(palindrome(\"heloo\"))\n",
        "print(palindrome(\"madam\"))"
      ]
    },
    {
      "cell_type": "markdown",
      "id": "5f2f3791",
      "metadata": {
        "id": "5f2f3791"
      },
      "source": [
        "### Question 7\n",
        "Write a function to count vowels in a string."
      ]
    },
    {
      "cell_type": "code",
      "execution_count": null,
      "id": "73fefa50",
      "metadata": {
        "id": "73fefa50",
        "colab": {
          "base_uri": "https://localhost:8080/"
        },
        "outputId": "80f02abf-236e-4caf-86f0-ce07169e1d17"
      },
      "outputs": [
        {
          "output_type": "stream",
          "name": "stdout",
          "text": [
            "10\n"
          ]
        }
      ],
      "source": [
        "def vowels(a):\n",
        "    count = 0\n",
        "    for char in a:\n",
        "        if char.lower() in 'aeiouAEIOU':\n",
        "            count += 1\n",
        "    return count\n",
        "print(vowels(\"AaEeIiOoUu\"))"
      ]
    },
    {
      "cell_type": "markdown",
      "id": "0d3a9996",
      "metadata": {
        "id": "0d3a9996"
      },
      "source": [
        "### Question 8\n",
        "Write a function that returns the sum of a list."
      ]
    },
    {
      "cell_type": "code",
      "execution_count": null,
      "id": "ab6afc66",
      "metadata": {
        "id": "ab6afc66",
        "colab": {
          "base_uri": "https://localhost:8080/"
        },
        "outputId": "cc401792-54cf-4249-9c56-1476e930c8b9"
      },
      "outputs": [
        {
          "output_type": "stream",
          "name": "stdout",
          "text": [
            "sum of list: 150\n"
          ]
        }
      ],
      "source": [
        "def sum_list(numbers):\n",
        "    total = 0\n",
        "    for num in numbers:\n",
        "        total += num\n",
        "    return total\n",
        "print(\"sum of list:\",sum_list([10, 20, 30, 40, 50]))\n"
      ]
    },
    {
      "cell_type": "markdown",
      "id": "f6682500",
      "metadata": {
        "id": "f6682500"
      },
      "source": [
        "### Question 9\n",
        "Write a function to find the smallest number in a list."
      ]
    },
    {
      "cell_type": "code",
      "execution_count": null,
      "id": "6798a641",
      "metadata": {
        "id": "6798a641",
        "colab": {
          "base_uri": "https://localhost:8080/"
        },
        "outputId": "8c5a315e-4ddb-41ac-b584-0d78e49af31d"
      },
      "outputs": [
        {
          "output_type": "stream",
          "name": "stdout",
          "text": [
            "smallest number: 10\n"
          ]
        }
      ],
      "source": [
        "def smallest(numbers):\n",
        "    if not numbers:\n",
        "        return None\n",
        "    smallest = numbers[1]\n",
        "    for num in numbers:\n",
        "        if num < smallest:\n",
        "            smallest = num\n",
        "    return smallest\n",
        "print(\"smallest number:\",smallest([40, 20, 70, 10, 90]))\n"
      ]
    },
    {
      "cell_type": "markdown",
      "id": "fb11e683",
      "metadata": {
        "id": "fb11e683"
      },
      "source": [
        "### Question 10\n",
        "Write a function to remove duplicates from a list."
      ]
    },
    {
      "cell_type": "code",
      "execution_count": null,
      "id": "7c53f88c",
      "metadata": {
        "id": "7c53f88c",
        "colab": {
          "base_uri": "https://localhost:8080/"
        },
        "outputId": "c7cb2a07-09c5-40ed-b57f-52bdd5ea9962"
      },
      "outputs": [
        {
          "output_type": "stream",
          "name": "stdout",
          "text": [
            "output: [10, 20, 30, 40, 50]\n"
          ]
        }
      ],
      "source": [
        "def remove_duplicates(list):\n",
        "    result = []\n",
        "    for item in list:\n",
        "        if item not in result:\n",
        "            result.append(item)\n",
        "    return result\n",
        "print(\"output:\",remove_duplicates([10, 20, 20, 30, 10, 40, 50]))\n"
      ]
    },
    {
      "cell_type": "markdown",
      "id": "9c380a5c",
      "metadata": {
        "id": "9c380a5c"
      },
      "source": [
        "### Question 11\n",
        "Write a function to sort a list in ascending order without using builtin sort function"
      ]
    },
    {
      "cell_type": "code",
      "execution_count": 123,
      "id": "8e43832f",
      "metadata": {
        "id": "8e43832f",
        "colab": {
          "base_uri": "https://localhost:8080/"
        },
        "outputId": "055858a6-4feb-4c2c-b175-0b495d38bbf7"
      },
      "outputs": [
        {
          "output_type": "stream",
          "name": "stdout",
          "text": [
            "[10, 20, 30, 50, 90]\n"
          ]
        }
      ],
      "source": [
        "def sort_list_ascending(list):\n",
        "    n = len(list)\n",
        "    for i in range(n):\n",
        "        for j in range(0, n - i - 1):\n",
        "            if list[j] > list[j + 1]:\n",
        "\n",
        "                list[j], list[j + 1] = list[j + 1], list[j]\n",
        "    return list\n",
        "print(sort_list_ascending([50, 20, 90, 10, 30]))"
      ]
    },
    {
      "cell_type": "markdown",
      "id": "1270c91c",
      "metadata": {
        "id": "1270c91c"
      },
      "source": [
        "### Question 12\n",
        "Write a function that returns the length of a string."
      ]
    },
    {
      "cell_type": "code",
      "execution_count": 131,
      "id": "87f35472",
      "metadata": {
        "id": "87f35472",
        "colab": {
          "base_uri": "https://localhost:8080/"
        },
        "outputId": "2930e4e4-e383-4c59-cc30-ed4eb0d728ca"
      },
      "outputs": [
        {
          "output_type": "stream",
          "name": "stdout",
          "text": [
            "5\n"
          ]
        }
      ],
      "source": [
        "a = \"ahsal\"\n",
        "print(len(a))"
      ]
    },
    {
      "cell_type": "markdown",
      "id": "9a8e3d28",
      "metadata": {
        "id": "9a8e3d28"
      },
      "source": [
        "### Question 13\n",
        "Write a function to count words in a sentence."
      ]
    },
    {
      "cell_type": "code",
      "execution_count": 134,
      "id": "e6f996ef",
      "metadata": {
        "id": "e6f996ef",
        "colab": {
          "base_uri": "https://localhost:8080/"
        },
        "outputId": "7968fed2-e131-4b3d-9dc0-5851dfddae58"
      },
      "outputs": [
        {
          "output_type": "stream",
          "name": "stdout",
          "text": [
            "3\n"
          ]
        }
      ],
      "source": [
        "def count_words(sentence):\n",
        "    words = sentence.split()\n",
        "    return len(words)\n",
        "print(count_words(\"ICT ACADEMY TVM.\"))"
      ]
    },
    {
      "cell_type": "markdown",
      "id": "430c2e4a",
      "metadata": {
        "id": "430c2e4a"
      },
      "source": [
        "### Question 14\n",
        "Write a function to convert Celsius to Fahrenheit."
      ]
    },
    {
      "cell_type": "code",
      "execution_count": 135,
      "id": "b710b0bd",
      "metadata": {
        "id": "b710b0bd",
        "colab": {
          "base_uri": "https://localhost:8080/"
        },
        "outputId": "51111f72-3d59-4432-92f0-681453f8427a"
      },
      "outputs": [
        {
          "output_type": "stream",
          "name": "stdout",
          "text": [
            "32.0\n",
            "212.0\n"
          ]
        }
      ],
      "source": [
        "def celsius_to_fahrenheit(celsius):\n",
        "    fahrenheit = (celsius * 9/5) + 32\n",
        "    return fahrenheit\n",
        "print(celsius_to_fahrenheit(0))\n",
        "print(celsius_to_fahrenheit(100))\n"
      ]
    },
    {
      "cell_type": "markdown",
      "id": "acefe5e3",
      "metadata": {
        "id": "acefe5e3"
      },
      "source": [
        "### Question 15\n",
        "Write a function to check if a number is palindrome."
      ]
    },
    {
      "cell_type": "code",
      "execution_count": 137,
      "id": "b700abae",
      "metadata": {
        "id": "b700abae",
        "colab": {
          "base_uri": "https://localhost:8080/"
        },
        "outputId": "5e1c696f-64ce-4a98-9165-b36a0704d896"
      },
      "outputs": [
        {
          "output_type": "stream",
          "name": "stdout",
          "text": [
            "True\n"
          ]
        }
      ],
      "source": [
        "def is_palindrome_number(n):\n",
        "    original = str(n)\n",
        "    reversed_str = original[::-1]\n",
        "    return original == reversed_str\n",
        "print(is_palindrome_number(121))\n"
      ]
    },
    {
      "cell_type": "markdown",
      "id": "b63452cb",
      "metadata": {
        "id": "b63452cb"
      },
      "source": [
        "### Question 16\n",
        "Write a function to return all even numbers in a list."
      ]
    },
    {
      "cell_type": "code",
      "execution_count": 140,
      "id": "9d1fc968",
      "metadata": {
        "id": "9d1fc968",
        "colab": {
          "base_uri": "https://localhost:8080/"
        },
        "outputId": "5d934da4-f8e8-4686-814c-3f7fd48e5656"
      },
      "outputs": [
        {
          "output_type": "stream",
          "name": "stdout",
          "text": [
            "[10, 30, 50]\n"
          ]
        }
      ],
      "source": [
        "def get_even_numbers(lst):\n",
        "    even_nums = []\n",
        "    for num in lst:\n",
        "        if num % 2 == 0:\n",
        "            even_nums.append(num)\n",
        "    return even_nums\n",
        "print(get_even_numbers([10, 25, 30, 45, 50, 65]))"
      ]
    },
    {
      "cell_type": "markdown",
      "id": "aca524d9",
      "metadata": {
        "id": "aca524d9"
      },
      "source": [
        "### Question 17\n",
        "Write a function to return the nth Fibonacci number."
      ]
    },
    {
      "cell_type": "code",
      "execution_count": 141,
      "id": "97dc4e87",
      "metadata": {
        "id": "97dc4e87",
        "colab": {
          "base_uri": "https://localhost:8080/"
        },
        "outputId": "0f158771-4cd9-473f-bf9b-94daa8881ed6"
      },
      "outputs": [
        {
          "output_type": "stream",
          "name": "stdout",
          "text": [
            "0\n",
            "3\n",
            "34\n"
          ]
        }
      ],
      "source": [
        "def fibonacci(n):\n",
        "    if n <= 0:\n",
        "        return None\n",
        "    elif n == 1:\n",
        "        return 0\n",
        "    elif n == 2:\n",
        "        return 1\n",
        "\n",
        "    a, b = 0, 1\n",
        "    for _ in range(3, n + 1):\n",
        "        a, b = b, a + b\n",
        "    return b\n",
        "print(fibonacci(1))\n",
        "print(fibonacci(5))\n",
        "print(fibonacci(10))\n"
      ]
    },
    {
      "cell_type": "markdown",
      "id": "29c847dc",
      "metadata": {
        "id": "29c847dc"
      },
      "source": [
        "### Question 18\n",
        "Write a function to calculate the average of a list."
      ]
    },
    {
      "cell_type": "code",
      "execution_count": 142,
      "id": "9adc9fd2",
      "metadata": {
        "id": "9adc9fd2",
        "colab": {
          "base_uri": "https://localhost:8080/"
        },
        "outputId": "ca40fab0-5ccf-4bc8-9fc7-3f4400c48b2f"
      },
      "outputs": [
        {
          "output_type": "stream",
          "name": "stdout",
          "text": [
            "25.0\n"
          ]
        }
      ],
      "source": [
        "def average(numbers):\n",
        "    if not numbers:\n",
        "        return None\n",
        "    return sum(numbers) / len(numbers)\n",
        "print(average([10, 20, 30, 40]))"
      ]
    },
    {
      "cell_type": "markdown",
      "id": "420240fb",
      "metadata": {
        "id": "420240fb"
      },
      "source": [
        "### Question 19\n",
        "Write a function that returns a dictionary of character counts."
      ]
    },
    {
      "cell_type": "code",
      "execution_count": 145,
      "id": "95cafc54",
      "metadata": {
        "id": "95cafc54",
        "colab": {
          "base_uri": "https://localhost:8080/"
        },
        "outputId": "e7d0ca6e-bc7a-4222-ff3a-585baa785550"
      },
      "outputs": [
        {
          "output_type": "stream",
          "name": "stdout",
          "text": [
            "{'h': 2, 'a': 1, 'i': 2, ' ': 2, 'e': 1, 'l': 2, 'o': 1}\n"
          ]
        }
      ],
      "source": [
        "def char_count(s):\n",
        "    counts = {}\n",
        "    for char in s:\n",
        "        counts[char] = counts.get(char, 0) + 1\n",
        "    return counts\n",
        "print(char_count(\"haii hello \"))\n"
      ]
    },
    {
      "cell_type": "markdown",
      "id": "17629a07",
      "metadata": {
        "id": "17629a07"
      },
      "source": [
        "### Question 20\n",
        "Write a function that returns True if all list elements are unique."
      ]
    },
    {
      "cell_type": "code",
      "execution_count": 147,
      "id": "fe4f8820",
      "metadata": {
        "id": "fe4f8820",
        "colab": {
          "base_uri": "https://localhost:8080/"
        },
        "outputId": "22fb5475-88ba-45f2-8087-5cbf7776e3f8"
      },
      "outputs": [
        {
          "output_type": "stream",
          "name": "stdout",
          "text": [
            "True\n",
            "False\n"
          ]
        }
      ],
      "source": [
        "def all_unique(list):\n",
        "    return len(list) == len(set(list))\n",
        "print(all_unique([10, 20, 30, 40]))\n",
        "print(all_unique([10, 20, 20, 30, 40]))\n"
      ]
    },
    {
      "cell_type": "markdown",
      "id": "91dc87b9",
      "metadata": {
        "id": "91dc87b9"
      },
      "source": [
        "### Question 21\n",
        "Write a function that returns dot product of two list of numbers"
      ]
    },
    {
      "cell_type": "code",
      "execution_count": 149,
      "id": "87c3fa4b",
      "metadata": {
        "id": "87c3fa4b",
        "colab": {
          "base_uri": "https://localhost:8080/"
        },
        "outputId": "26ef4da3-7caa-43f6-e44e-307e42ce6833"
      },
      "outputs": [
        {
          "output_type": "stream",
          "name": "stdout",
          "text": [
            "dot_product: 32\n"
          ]
        }
      ],
      "source": [
        "def dot_product(list1, list2):\n",
        "    if len(list1) != len(list2):\n",
        "        raise ValueError(\"Lists must be of the same length.\")\n",
        "    return sum(a * b for a, b in zip(list1, list2))\n",
        "print(\"dot_product:\",dot_product([1, 2, 3], [4, 5, 6]))"
      ]
    },
    {
      "cell_type": "markdown",
      "id": "5eeb0527",
      "metadata": {
        "id": "5eeb0527"
      },
      "source": [
        "### Question 22\n",
        "Write a function that returns the projection of vector a onto vector b. Both a and b are given as list of numbers"
      ]
    },
    {
      "cell_type": "code",
      "execution_count": 150,
      "id": "d2c2439f",
      "metadata": {
        "id": "d2c2439f",
        "colab": {
          "base_uri": "https://localhost:8080/"
        },
        "outputId": "bdfb3bad-31e4-42a7-9f4f-28ed5a698319"
      },
      "outputs": [
        {
          "output_type": "stream",
          "name": "stdout",
          "text": [
            "[8.846153846153847, 44.230769230769226]\n"
          ]
        }
      ],
      "source": [
        "def vector_projection(a, b):\n",
        "    if len(a) != len(b):\n",
        "        raise ValueError(\"Vectors must be of the same length.\")\n",
        "\n",
        "    def dot(u, v):\n",
        "        return sum(x * y for x, y in zip(u, v))\n",
        "\n",
        "    b_dot_b = dot(b, b)\n",
        "    if b_dot_b == 0:\n",
        "        raise ValueError(\"Vector b cannot be the zero vector.\")\n",
        "\n",
        "    scalar = dot(a, b) / b_dot_b\n",
        "    projection = [scalar * x for x in b]\n",
        "    return projection\n",
        "a = [30, 40]\n",
        "b = [10, 50]\n",
        "print(vector_projection(a, b))"
      ]
    },
    {
      "cell_type": "markdown",
      "id": "1410b385",
      "metadata": {
        "id": "1410b385"
      },
      "source": [
        "### Question 23\n",
        "Write a function to return common elements between two lists."
      ]
    },
    {
      "cell_type": "code",
      "execution_count": 151,
      "id": "2cee584c",
      "metadata": {
        "id": "2cee584c",
        "colab": {
          "base_uri": "https://localhost:8080/"
        },
        "outputId": "f64cc8ae-bc9b-4c4c-c12a-e10c7af5d00f"
      },
      "outputs": [
        {
          "output_type": "stream",
          "name": "stdout",
          "text": [
            "[3, 4]\n"
          ]
        }
      ],
      "source": [
        "def common_elements(list1, list2):\n",
        "    return list(set(list1) & set(list2))\n",
        "print(common_elements([1, 2, 3, 4], [3, 4, 5, 6]))"
      ]
    },
    {
      "cell_type": "markdown",
      "id": "23ab5210",
      "metadata": {
        "id": "23ab5210"
      },
      "source": [
        "### Question 24\n",
        "Create a class Vector that supports addition, dot product, and magnitude."
      ]
    },
    {
      "cell_type": "code",
      "execution_count": 155,
      "id": "f6b18fd7",
      "metadata": {
        "id": "f6b18fd7",
        "colab": {
          "base_uri": "https://localhost:8080/"
        },
        "outputId": "a351bcfd-c09f-46b6-bc78-2a8f4e6c1fc4"
      },
      "outputs": [
        {
          "output_type": "stream",
          "name": "stdout",
          "text": [
            "[50, 70, 90]\n",
            "37.416573867739416\n"
          ]
        }
      ],
      "source": [
        "import math\n",
        "class Vector:\n",
        "    def __init__(self, components):\n",
        "        self.components = components\n",
        "\n",
        "    def __add__(self, other):\n",
        "        return Vector([x + y for x, y in zip(self.components, other.components)])\n",
        "\n",
        "    def dot(self, other):\n",
        "        return sum(x * y for x, y in zip(self.components, other.components))\n",
        "\n",
        "    def magnitude(self):\n",
        "        return math.sqrt(sum(x**2 for x in self.components))\n",
        "\n",
        "    def __repr__(self):\n",
        "        return str(self.components)\n",
        "v1 = Vector([10, 20, 30])\n",
        "v2 = Vector([40, 50, 60])\n",
        "print(v1 + v2)\n",
        "print(v1.magnitude())"
      ]
    },
    {
      "cell_type": "markdown",
      "id": "a0621aba",
      "metadata": {
        "id": "a0621aba"
      },
      "source": [
        "### Question 25\n",
        "Implement a function to return all outliers in a list based on the IQR method."
      ]
    },
    {
      "cell_type": "code",
      "execution_count": 157,
      "id": "460a8994",
      "metadata": {
        "id": "460a8994",
        "colab": {
          "base_uri": "https://localhost:8080/"
        },
        "outputId": "f1b8fc92-a027-4dbc-a6d8-7bbf9c093b0a"
      },
      "outputs": [
        {
          "output_type": "stream",
          "name": "stdout",
          "text": [
            "outliers: [100]\n"
          ]
        }
      ],
      "source": [
        "def find_outliers(data):\n",
        "    if not data:\n",
        "        return []\n",
        "\n",
        "    sorted_data = sorted(data)\n",
        "    n = len(sorted_data)\n",
        "\n",
        "    def median(lst):\n",
        "        length = len(lst)\n",
        "        mid = length // 2\n",
        "        if length % 2 == 0:\n",
        "            return (lst[mid - 1] + lst[mid]) / 2\n",
        "        else:\n",
        "            return lst[mid]\n",
        "\n",
        "    Q2 = median(sorted_data)\n",
        "    if n % 2 == 0:\n",
        "        Q1 = median(sorted_data[:n//2])\n",
        "        Q3 = median(sorted_data[n//2:])\n",
        "    else:\n",
        "        Q1 = median(sorted_data[:n//2])\n",
        "        Q3 = median(sorted_data[n//2+1:])\n",
        "\n",
        "    IQR = Q3 - Q1\n",
        "    lower_bound = Q1 - 1.5 * IQR\n",
        "    upper_bound = Q3 + 1.5 * IQR\n",
        "\n",
        "    outliers = [x for x in data if x < lower_bound or x > upper_bound]\n",
        "    return outliers\n",
        "data = [10, 12, 14, 15, 18, 19, 21, 22, 100]\n",
        "print(\"outliers:\",find_outliers(data))\n"
      ]
    },
    {
      "cell_type": "markdown",
      "id": "f0be510e",
      "metadata": {
        "id": "f0be510e"
      },
      "source": [
        "### Question 26\n",
        "Function with default arguments:\n",
        "Create a function to compute variance with an option to use sample or population formula"
      ]
    },
    {
      "cell_type": "code",
      "execution_count": 158,
      "id": "941d732d",
      "metadata": {
        "id": "941d732d",
        "colab": {
          "base_uri": "https://localhost:8080/"
        },
        "outputId": "41e49f5b-31a7-4d60-8bb8-c3d421ef4d63"
      },
      "outputs": [
        {
          "output_type": "stream",
          "name": "stdout",
          "text": [
            "27.428571428571427\n",
            "24.0\n"
          ]
        }
      ],
      "source": [
        "def variance(data, sample=True):\n",
        "    n = len(data)\n",
        "    mean = sum(data) / n\n",
        "    sq_diff = sum((x - mean) ** 2 for x in data)\n",
        "    if sample:\n",
        "        return sq_diff / (n - 1)\n",
        "    else:\n",
        "        return sq_diff / n\n",
        "data = [10, 12, 23, 23, 16, 23, 21, 16]\n",
        "print(variance(data))\n",
        "print(variance(data, sample=False))\n"
      ]
    },
    {
      "cell_type": "markdown",
      "id": "c39be0f1",
      "metadata": {
        "id": "c39be0f1"
      },
      "source": [
        "### Question 27\n",
        "Create a list of squares of even numbers between 1 and 20 using list comprehension."
      ]
    },
    {
      "cell_type": "code",
      "execution_count": 159,
      "id": "9e4ba74a",
      "metadata": {
        "id": "9e4ba74a",
        "colab": {
          "base_uri": "https://localhost:8080/"
        },
        "outputId": "a93fa28a-64ef-40df-ad2d-b06a9bb51b78"
      },
      "outputs": [
        {
          "output_type": "stream",
          "name": "stdout",
          "text": [
            "[4, 16, 36, 64, 100, 144, 196, 256, 324, 400]\n"
          ]
        }
      ],
      "source": [
        "def even_squares():\n",
        "    return [x**2 for x in range(1, 21) if x % 2 == 0]\n",
        "\n",
        "print(even_squares())\n"
      ]
    },
    {
      "cell_type": "markdown",
      "id": "b43c266d",
      "metadata": {
        "id": "b43c266d"
      },
      "source": [
        "### Question 28\n",
        "Write a function that returns the L1 and L2 norms of a vector given as list"
      ]
    },
    {
      "cell_type": "code",
      "execution_count": 160,
      "id": "4f5dc876",
      "metadata": {
        "id": "4f5dc876",
        "colab": {
          "base_uri": "https://localhost:8080/"
        },
        "outputId": "54f430e6-146b-4f7a-9aa0-fc6b4f2bdb9b"
      },
      "outputs": [
        {
          "output_type": "stream",
          "name": "stdout",
          "text": [
            "L1 norm: 19\n",
            "L2 norm: 13.0\n"
          ]
        }
      ],
      "source": [
        "import math\n",
        "\n",
        "def norms(vector):\n",
        "    l1 = sum(abs(x) for x in vector)\n",
        "    l2 = math.sqrt(sum(x**2 for x in vector))\n",
        "    return l1, l2\n",
        "v = [3, -4, 12]\n",
        "l1_norm, l2_norm = norms(v)\n",
        "print(\"L1 norm:\", l1_norm)\n",
        "print(\"L2 norm:\", l2_norm)\n"
      ]
    },
    {
      "cell_type": "markdown",
      "id": "2007915f",
      "metadata": {
        "id": "2007915f"
      },
      "source": [
        "### Question 29\n",
        "Write a function that computes the 95% confidence interval for the mean of a list of numbers assuming normal distribution."
      ]
    },
    {
      "cell_type": "code",
      "execution_count": 161,
      "id": "8634dc63",
      "metadata": {
        "id": "8634dc63",
        "colab": {
          "base_uri": "https://localhost:8080/"
        },
        "outputId": "8a8b5cb5-5b9c-458b-bca2-3ab2f4c7c645"
      },
      "outputs": [
        {
          "output_type": "stream",
          "name": "stdout",
          "text": [
            "(11.635010996859481, 14.650703288854803)\n"
          ]
        }
      ],
      "source": [
        "import math\n",
        "def confidence_interval_95(data):\n",
        "    n = len(data)\n",
        "    mean = sum(data) / n\n",
        "    variance = sum((x - mean) ** 2 for x in data) / (n - 1)\n",
        "    std_dev = math.sqrt(variance)\n",
        "    std_err = std_dev / math.sqrt(n)\n",
        "\n",
        "    z = 1.96\n",
        "    margin = z * std_err\n",
        "\n",
        "    return (mean - margin, mean + margin)\n",
        "data = [12, 15, 14, 10, 13, 16, 12]\n",
        "print(confidence_interval_95(data))\n"
      ]
    },
    {
      "cell_type": "markdown",
      "id": "08df3afb",
      "metadata": {
        "id": "08df3afb"
      },
      "source": [
        "### Question 30\n",
        "Given a list of categorical values, create a frequency distribution dictionary."
      ]
    },
    {
      "cell_type": "code",
      "execution_count": 162,
      "id": "c9b88531",
      "metadata": {
        "id": "c9b88531",
        "colab": {
          "base_uri": "https://localhost:8080/"
        },
        "outputId": "3a9564ae-d9fe-4b33-8218-5f66dd585133"
      },
      "outputs": [
        {
          "output_type": "stream",
          "name": "stdout",
          "text": [
            "{'apple': 3, 'banana': 2, 'orange': 1}\n"
          ]
        }
      ],
      "source": [
        "def frequency_distribution(lst):\n",
        "    freq = {}\n",
        "    for item in lst:\n",
        "        freq[item] = freq.get(item, 0) + 1\n",
        "    return freq\n",
        "categories = ['apple', 'banana', 'apple', 'orange', 'banana', 'apple']\n",
        "print(frequency_distribution(categories))\n"
      ]
    }
  ],
  "metadata": {
    "language_info": {
      "name": "python"
    },
    "colab": {
      "provenance": [],
      "include_colab_link": true
    },
    "kernelspec": {
      "name": "python3",
      "display_name": "Python 3"
    }
  },
  "nbformat": 4,
  "nbformat_minor": 5
}